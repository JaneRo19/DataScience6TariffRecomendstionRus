{
 "cells": [
  {
   "cell_type": "markdown",
   "metadata": {},
   "source": [
    "# Рекомендация тарифов"
   ]
  },
  {
   "cell_type": "markdown",
   "metadata": {},
   "source": [
    "В вашем распоряжении данные о поведении клиентов, которые уже перешли на эти тарифы (из проекта курса «Статистический анализ данных»). Нужно построить модель для задачи классификации, которая выберет подходящий тариф. Предобработка данных не понадобится — вы её уже сделали.\n",
    "\n",
    "Постройте модель с максимально большим значением *accuracy*. Чтобы сдать проект успешно, нужно довести долю правильных ответов по крайней мере до 0.75. Проверьте *accuracy* на тестовой выборке самостоятельно."
   ]
  },
  {
   "cell_type": "markdown",
   "metadata": {},
   "source": [
    "## Откроем и изучим файл"
   ]
  },
  {
   "cell_type": "markdown",
   "metadata": {},
   "source": [
    "В данном разделе откроем файл, и посмотрим, есть ли в нем какие-то ошибки, пропуски."
   ]
  },
  {
   "cell_type": "code",
   "execution_count": 1,
   "metadata": {},
   "outputs": [],
   "source": [
    "# импортируем необходимые библиотеки\n",
    "import pandas as pd\n",
    "import seaborn as sns\n",
    "from matplotlib import pyplot as plt\n",
    "from sklearn.model_selection import train_test_split\n",
    "from sklearn.tree import DecisionTreeClassifier\n",
    "from sklearn.metrics import accuracy_score\n",
    "from sklearn.ensemble import RandomForestClassifier\n",
    "from sklearn.linear_model import LogisticRegression\n",
    "from sklearn.dummy import DummyClassifier\n",
    "import warnings\n",
    "warnings.filterwarnings(\"ignore\")"
   ]
  },
  {
   "cell_type": "code",
   "execution_count": 2,
   "metadata": {},
   "outputs": [],
   "source": [
    "# прочитаем файл\n",
    "data = pd.read_csv('....csv')"
   ]
  },
  {
   "cell_type": "code",
   "execution_count": 3,
   "metadata": {},
   "outputs": [
    {
     "data": {
      "text/html": [
       "<div>\n",
       "<style scoped>\n",
       "    .dataframe tbody tr th:only-of-type {\n",
       "        vertical-align: middle;\n",
       "    }\n",
       "\n",
       "    .dataframe tbody tr th {\n",
       "        vertical-align: top;\n",
       "    }\n",
       "\n",
       "    .dataframe thead th {\n",
       "        text-align: right;\n",
       "    }\n",
       "</style>\n",
       "<table border=\"1\" class=\"dataframe\">\n",
       "  <thead>\n",
       "    <tr style=\"text-align: right;\">\n",
       "      <th></th>\n",
       "      <th>calls</th>\n",
       "      <th>minutes</th>\n",
       "      <th>messages</th>\n",
       "      <th>mb_used</th>\n",
       "      <th>is_ultra</th>\n",
       "    </tr>\n",
       "  </thead>\n",
       "  <tbody>\n",
       "    <tr>\n",
       "      <td>0</td>\n",
       "      <td>40.0</td>\n",
       "      <td>311.90</td>\n",
       "      <td>83.0</td>\n",
       "      <td>19915.42</td>\n",
       "      <td>0</td>\n",
       "    </tr>\n",
       "    <tr>\n",
       "      <td>1</td>\n",
       "      <td>85.0</td>\n",
       "      <td>516.75</td>\n",
       "      <td>56.0</td>\n",
       "      <td>22696.96</td>\n",
       "      <td>0</td>\n",
       "    </tr>\n",
       "    <tr>\n",
       "      <td>2</td>\n",
       "      <td>77.0</td>\n",
       "      <td>467.66</td>\n",
       "      <td>86.0</td>\n",
       "      <td>21060.45</td>\n",
       "      <td>0</td>\n",
       "    </tr>\n",
       "    <tr>\n",
       "      <td>3</td>\n",
       "      <td>106.0</td>\n",
       "      <td>745.53</td>\n",
       "      <td>81.0</td>\n",
       "      <td>8437.39</td>\n",
       "      <td>1</td>\n",
       "    </tr>\n",
       "    <tr>\n",
       "      <td>4</td>\n",
       "      <td>66.0</td>\n",
       "      <td>418.74</td>\n",
       "      <td>1.0</td>\n",
       "      <td>14502.75</td>\n",
       "      <td>0</td>\n",
       "    </tr>\n",
       "    <tr>\n",
       "      <td>5</td>\n",
       "      <td>58.0</td>\n",
       "      <td>344.56</td>\n",
       "      <td>21.0</td>\n",
       "      <td>15823.37</td>\n",
       "      <td>0</td>\n",
       "    </tr>\n",
       "    <tr>\n",
       "      <td>6</td>\n",
       "      <td>57.0</td>\n",
       "      <td>431.64</td>\n",
       "      <td>20.0</td>\n",
       "      <td>3738.90</td>\n",
       "      <td>1</td>\n",
       "    </tr>\n",
       "    <tr>\n",
       "      <td>7</td>\n",
       "      <td>15.0</td>\n",
       "      <td>132.40</td>\n",
       "      <td>6.0</td>\n",
       "      <td>21911.60</td>\n",
       "      <td>0</td>\n",
       "    </tr>\n",
       "    <tr>\n",
       "      <td>8</td>\n",
       "      <td>7.0</td>\n",
       "      <td>43.39</td>\n",
       "      <td>3.0</td>\n",
       "      <td>2538.67</td>\n",
       "      <td>1</td>\n",
       "    </tr>\n",
       "    <tr>\n",
       "      <td>9</td>\n",
       "      <td>90.0</td>\n",
       "      <td>665.41</td>\n",
       "      <td>38.0</td>\n",
       "      <td>17358.61</td>\n",
       "      <td>0</td>\n",
       "    </tr>\n",
       "  </tbody>\n",
       "</table>\n",
       "</div>"
      ],
      "text/plain": [
       "   calls  minutes  messages   mb_used  is_ultra\n",
       "0   40.0   311.90      83.0  19915.42         0\n",
       "1   85.0   516.75      56.0  22696.96         0\n",
       "2   77.0   467.66      86.0  21060.45         0\n",
       "3  106.0   745.53      81.0   8437.39         1\n",
       "4   66.0   418.74       1.0  14502.75         0\n",
       "5   58.0   344.56      21.0  15823.37         0\n",
       "6   57.0   431.64      20.0   3738.90         1\n",
       "7   15.0   132.40       6.0  21911.60         0\n",
       "8    7.0    43.39       3.0   2538.67         1\n",
       "9   90.0   665.41      38.0  17358.61         0"
      ]
     },
     "metadata": {},
     "output_type": "display_data"
    }
   ],
   "source": [
    "# выведем на экран первые 10 строк файла\n",
    "display(data.head(10))"
   ]
  },
  {
   "cell_type": "code",
   "execution_count": 4,
   "metadata": {},
   "outputs": [
    {
     "name": "stdout",
     "output_type": "stream",
     "text": [
      "<class 'pandas.core.frame.DataFrame'>\n",
      "RangeIndex: 3214 entries, 0 to 3213\n",
      "Data columns (total 5 columns):\n",
      "calls       3214 non-null float64\n",
      "minutes     3214 non-null float64\n",
      "messages    3214 non-null float64\n",
      "mb_used     3214 non-null float64\n",
      "is_ultra    3214 non-null int64\n",
      "dtypes: float64(4), int64(1)\n",
      "memory usage: 125.7 KB\n"
     ]
    }
   ],
   "source": [
    "# получим общую информацию о датасете\n",
    "data.info()"
   ]
  },
  {
   "cell_type": "markdown",
   "metadata": {},
   "source": [
    "В представленном датасете следующие колонки:\n",
    "- calls - количество звонков (формат - float64)\n",
    "- minutes - суммарная длительность звонков в минутах (формат - float64)\n",
    "- messages - количество sms-сообщений (формат - float64)\n",
    "- mb_used - израсходованный интернет-трафик в Мб (формат - float64)\n",
    "- us_ultra - каким тарифом пользовался в течение месяца (\"Ультра\" - 1, \"Смарт\" - 0) (формат - int64)"
   ]
  },
  {
   "cell_type": "code",
   "execution_count": 5,
   "metadata": {},
   "outputs": [
    {
     "name": "stdout",
     "output_type": "stream",
     "text": [
      "Index(['calls', 'minutes', 'messages', 'mb_used', 'is_ultra'], dtype='object')\n"
     ]
    }
   ],
   "source": [
    "# посмотрим название столбцов\n",
    "print(data.columns)"
   ]
  },
  {
   "cell_type": "code",
   "execution_count": 6,
   "metadata": {},
   "outputs": [
    {
     "name": "stdout",
     "output_type": "stream",
     "text": [
      "3214\n"
     ]
    }
   ],
   "source": [
    "# определим размер датасета\n",
    "print(data.shape[0])"
   ]
  },
  {
   "cell_type": "markdown",
   "metadata": {},
   "source": [
    "Посмотрмм каждый столбец для определения наличия аномальных значений"
   ]
  },
  {
   "cell_type": "code",
   "execution_count": 7,
   "metadata": {},
   "outputs": [
    {
     "name": "stdout",
     "output_type": "stream",
     "text": [
      "count    3214.000000\n",
      "mean       63.038892\n",
      "std        33.236368\n",
      "min         0.000000\n",
      "25%        40.000000\n",
      "50%        62.000000\n",
      "75%        82.000000\n",
      "max       244.000000\n",
      "Name: calls, dtype: float64\n"
     ]
    }
   ],
   "source": [
    "# столбец calls\n",
    "print(data['calls'].describe())"
   ]
  },
  {
   "cell_type": "code",
   "execution_count": 8,
   "metadata": {},
   "outputs": [
    {
     "name": "stdout",
     "output_type": "stream",
     "text": [
      "count    3214.000000\n",
      "mean      438.208787\n",
      "std       234.569872\n",
      "min         0.000000\n",
      "25%       274.575000\n",
      "50%       430.600000\n",
      "75%       571.927500\n",
      "max      1632.060000\n",
      "Name: minutes, dtype: float64\n"
     ]
    }
   ],
   "source": [
    "# столбец minutes\n",
    "print(data['minutes'].describe())"
   ]
  },
  {
   "cell_type": "code",
   "execution_count": 9,
   "metadata": {},
   "outputs": [
    {
     "name": "stdout",
     "output_type": "stream",
     "text": [
      "count    3214.000000\n",
      "mean       38.281269\n",
      "std        36.148326\n",
      "min         0.000000\n",
      "25%         9.000000\n",
      "50%        30.000000\n",
      "75%        57.000000\n",
      "max       224.000000\n",
      "Name: messages, dtype: float64\n"
     ]
    }
   ],
   "source": [
    "# столбец messages\n",
    "print(data['messages'].describe())"
   ]
  },
  {
   "cell_type": "code",
   "execution_count": 10,
   "metadata": {},
   "outputs": [
    {
     "name": "stdout",
     "output_type": "stream",
     "text": [
      "count     3214.000000\n",
      "mean     17207.673836\n",
      "std       7570.968246\n",
      "min          0.000000\n",
      "25%      12491.902500\n",
      "50%      16943.235000\n",
      "75%      21424.700000\n",
      "max      49745.730000\n",
      "Name: mb_used, dtype: float64\n"
     ]
    }
   ],
   "source": [
    "# столбец mb_used\n",
    "print(data['mb_used'].describe())"
   ]
  },
  {
   "cell_type": "code",
   "execution_count": 11,
   "metadata": {},
   "outputs": [
    {
     "name": "stdout",
     "output_type": "stream",
     "text": [
      "0    2229\n",
      "1     985\n",
      "Name: is_ultra, dtype: int64\n"
     ]
    }
   ],
   "source": [
    "# столбец is_ultra\n",
    "print(data['is_ultra'].value_counts())"
   ]
  },
  {
   "cell_type": "markdown",
   "metadata": {},
   "source": [
    "В ходе исследования и изучения файла ошибок выявлено не было, но в некоторых столбцах, например, calls, minutes, messages формат данных нужно заменить с float на int. Заменим форматы в данных столбцах."
   ]
  },
  {
   "cell_type": "code",
   "execution_count": 12,
   "metadata": {},
   "outputs": [],
   "source": [
    "list_columns = ['calls', 'minutes', 'messages']\n",
    "for name in list_columns:\n",
    "    data[name] = data[name].astype('int64')"
   ]
  },
  {
   "cell_type": "code",
   "execution_count": 13,
   "metadata": {},
   "outputs": [
    {
     "name": "stdout",
     "output_type": "stream",
     "text": [
      "<class 'pandas.core.frame.DataFrame'>\n",
      "RangeIndex: 3214 entries, 0 to 3213\n",
      "Data columns (total 5 columns):\n",
      "calls       3214 non-null int64\n",
      "minutes     3214 non-null int64\n",
      "messages    3214 non-null int64\n",
      "mb_used     3214 non-null float64\n",
      "is_ultra    3214 non-null int64\n",
      "dtypes: float64(1), int64(4)\n",
      "memory usage: 125.7 KB\n"
     ]
    }
   ],
   "source": [
    "data.info()"
   ]
  },
  {
   "cell_type": "markdown",
   "metadata": {},
   "source": [
    "**Вывод:** в ходе изучения файла было получено следующее:\n",
    "\n",
    "1) 5 колонок и 3214 строк:\n",
    "   - calls - количество звонков\n",
    "   - minutes - суммарная длительность звонков в минутах\n",
    "   - messages - количество sms-сообщений\n",
    "   - mb_used - израсходованный интернет-трафик в Мб\n",
    "   - us_ultra - каким тарифом пользовался в течение месяца\n",
    "   \n",
    "2) в данных не было ошибок и пропусков, большиз разбросов или выбивающихся значений нет\n",
    "3) в трех столбцах calls, minutes, messages поменяли тип данных с вещественного на целочисленный, так как в указанных колонках по условию данные округляются, и поэтому они не могут быть вещественными."
   ]
  },
  {
   "cell_type": "code",
   "execution_count": 14,
   "metadata": {},
   "outputs": [
    {
     "data": {
      "text/plain": [
       "<seaborn.axisgrid.PairGrid at 0x7f8dbe4bc6d0>"
      ]
     },
     "execution_count": 14,
     "metadata": {},
     "output_type": "execute_result"
    },
    {
     "data": {
      "image/png": "[encoded data removed]",
      "text/plain": [
       "<Figure size 944.5x900 with 30 Axes>"
      ]
     },
     "metadata": {
      "needs_background": "light"
     },
     "output_type": "display_data"
    }
   ],
   "source": [
    "# построим pairplot\n",
    "sns.pairplot(data, hue='is_ultra')"
   ]
  },
  {
   "cell_type": "code",
   "execution_count": 15,
   "metadata": {},
   "outputs": [
    {
     "data": {
      "image/png": "[encoded data removed]",
      "text/plain": [
       "<Figure size 432x432 with 2 Axes>"
      ]
     },
     "metadata": {
      "needs_background": "light"
     },
     "output_type": "display_data"
    }
   ],
   "source": [
    "plt.figure(figsize=(6, 6))\n",
    "sns.heatmap(data.corr(), annot=True, cmap='coolwarm')\n",
    "plt.show()"
   ]
  },
  {
   "cell_type": "markdown",
   "metadata": {},
   "source": [
    "## Разбьем данные на выборки"
   ]
  },
  {
   "cell_type": "markdown",
   "metadata": {},
   "source": [
    "В данном разделе разобъем все имеющиеся данные на выборки. Для обучения модели, ее тестирования и валидации результатов нам  необходимо 3 выборки: тренировочную, тестовую и валидационную. Делить мы их будем в соотношении 3:1:1 (если говорить в процентах, то 60:20:20). Разобъем данные на выборки."
   ]
  },
  {
   "cell_type": "code",
   "execution_count": 16,
   "metadata": {},
   "outputs": [],
   "source": [
    "# создадим тренировочную и тестовую выборки, вторую впоследствии разобъем на тестовую и валидационную\n",
    "data_train, data_test_valid = train_test_split(data, test_size=0.4, random_state=12345)"
   ]
  },
  {
   "cell_type": "code",
   "execution_count": 17,
   "metadata": {},
   "outputs": [],
   "source": [
    "# разобъем тренировочную выборку на тестовую и валидационную в соотношении 1:1\n",
    "data_test, data_valid = train_test_split(data_test_valid, test_size=0.5, random_state=12345)"
   ]
  },
  {
   "cell_type": "code",
   "execution_count": 18,
   "metadata": {},
   "outputs": [
    {
     "name": "stdout",
     "output_type": "stream",
     "text": [
      "True\n"
     ]
    }
   ],
   "source": [
    "# проверим совпадает ли сумма размеров тренировочной, тестовойб валидационной выбборок с исходной\n",
    "print(data.shape[0] == (data_train.shape[0] + data_test.shape[0] + data_valid.shape[0]))"
   ]
  },
  {
   "cell_type": "markdown",
   "metadata": {},
   "source": [
    "После сравнения размеров выборок получили значение True, значит ни одна строчка не потеряна. Можем приступать к обучению модели."
   ]
  },
  {
   "cell_type": "markdown",
   "metadata": {},
   "source": [
    "## Исследуем модели"
   ]
  },
  {
   "cell_type": "markdown",
   "metadata": {},
   "source": [
    "Существует несколько способов обучения модели:\n",
    "\n",
    "1) решающее дерево\n",
    "2) случайный лес\n",
    "3) логическая регрессия\n",
    "\n",
    "Используем в обучении модели каждуюс различными гиперпараметрами и выберем наиболее нам подходящую"
   ]
  },
  {
   "cell_type": "markdown",
   "metadata": {},
   "source": [
    "Выделим features и taregt для тренировочной, валидационной и тестовой выборок."
   ]
  },
  {
   "cell_type": "code",
   "execution_count": 19,
   "metadata": {},
   "outputs": [],
   "source": [
    "# для тренировочной выборки\n",
    "features_train = data_train.drop('is_ultra', axis=1)\n",
    "target_train = data_train['is_ultra']"
   ]
  },
  {
   "cell_type": "code",
   "execution_count": 20,
   "metadata": {},
   "outputs": [],
   "source": [
    "# для валидационной выборки\n",
    "features_valid = data_valid.drop('is_ultra', axis=1)\n",
    "target_valid = data_valid['is_ultra']"
   ]
  },
  {
   "cell_type": "code",
   "execution_count": 21,
   "metadata": {},
   "outputs": [],
   "source": [
    "# для тестовой выборки\n",
    "features_test = data_test.drop('is_ultra', axis=1)\n",
    "target_test = data_test['is_ultra']"
   ]
  },
  {
   "cell_type": "markdown",
   "metadata": {},
   "source": [
    "### Модель решающее дерево"
   ]
  },
  {
   "cell_type": "markdown",
   "metadata": {},
   "source": [
    "Рассмотрим модель решающее дерево, изменяя его глубину."
   ]
  },
  {
   "cell_type": "code",
   "execution_count": 22,
   "metadata": {},
   "outputs": [
    {
     "name": "stdout",
     "output_type": "stream",
     "text": [
      "max_depth = 1: тренировочная выборка: 0.7577800829875518 --- валидационная выборка: 0.7356143079315708\n",
      "max_depth = 2: тренировочная выборка: 0.7873443983402489 --- валидационная выборка: 0.7744945567651633\n",
      "max_depth = 3: тренировочная выборка: 0.8070539419087137 --- валидационная выборка: 0.7791601866251944\n",
      "max_depth = 4: тренировочная выборка: 0.8101659751037344 --- валидационная выборка: 0.7744945567651633\n",
      "max_depth = 5: тренировочная выборка: 0.821058091286307 --- валидационная выборка: 0.7776049766718507\n",
      "max_depth = 6: тренировочная выборка: 0.8397302904564315 --- валидационная выборка: 0.7807153965785381\n",
      "max_depth = 7: тренировочная выборка: 0.8563278008298755 --- валидационная выборка: 0.7962674961119751\n",
      "max_depth = 8: тренировочная выборка: 0.8625518672199171 --- валидационная выборка: 0.7869362363919129\n",
      "max_depth = 9: тренировочная выборка: 0.8827800829875518 --- валидационная выборка: 0.7838258164852255\n"
     ]
    }
   ],
   "source": [
    "# выведем результаты для тренировочной и валидационной модели с максимальной глубиной дерева от 1 до 8 с шагом 1\n",
    "best_model = None\n",
    "best_result = 0\n",
    "for depth in range(1, 10):\n",
    "    model_tree = DecisionTreeClassifier(random_state=12345, max_depth = depth)\n",
    "    model_tree.fit(features_train, target_train)\n",
    "    predictions_tree = model_tree.predict(features_train)\n",
    "    result_tree = accuracy_score(target_train, predictions_tree)\n",
    "    predictions_tree_valid = model_tree.predict(features_valid)\n",
    "    result_tree_valid = accuracy_score(target_valid, predictions_tree_valid)\n",
    "    if result_tree > best_result:\n",
    "        print(f\"max_depth = {depth}: тренировочная выборка: {result_tree} --- валидационная выборка: {result_tree_valid}\")"
   ]
  },
  {
   "cell_type": "code",
   "execution_count": 23,
   "metadata": {},
   "outputs": [
    {
     "name": "stdout",
     "output_type": "stream",
     "text": [
      "max_depth = 1: тренировочная выборка: 0.7577800829875518 --- валидационная выборка: 0.7356143079315708\n",
      "max_depth = 4: тренировочная выборка: 0.8101659751037344 --- валидационная выборка: 0.7744945567651633\n",
      "max_depth = 7: тренировочная выборка: 0.8563278008298755 --- валидационная выборка: 0.7962674961119751\n",
      "max_depth = 10: тренировочная выборка: 0.8890041493775933 --- валидационная выборка: 0.7838258164852255\n",
      "max_depth = 13: тренировочная выборка: 0.9424273858921162 --- валидационная выборка: 0.7682737169517885\n",
      "max_depth = 16: тренировочная выборка: 0.9808091286307054 --- валидационная выборка: 0.7433903576982893\n",
      "max_depth = 19: тренировочная выборка: 0.9901452282157677 --- валидационная выборка: 0.7325038880248833\n",
      "max_depth = 22: тренировочная выборка: 0.9968879668049793 --- валидационная выборка: 0.7387247278382582\n"
     ]
    }
   ],
   "source": [
    "# выведем результаты для тренировочной и валидационной модели с максимальной глубиной дерева от 1 до 25 с шагом 5\n",
    "best_model = None\n",
    "best_result = 0\n",
    "for depth in range(1, 25, 3):\n",
    "    model_tree = DecisionTreeClassifier(random_state=12345, max_depth = depth)\n",
    "    model_tree.fit(features_train, target_train)\n",
    "    predictions_tree = model_tree.predict(features_train)\n",
    "    result_tree = accuracy_score(target_train, predictions_tree)\n",
    "    predictions_tree_valid = model_tree.predict(features_valid)\n",
    "    result_tree_valid = accuracy_score(target_valid, predictions_tree_valid)\n",
    "    if result_tree > best_result:\n",
    "        print(f\"max_depth = {depth}: тренировочная выборка: {result_tree} --- валидационная выборка: {result_tree_valid}\")"
   ]
  },
  {
   "cell_type": "markdown",
   "metadata": {},
   "source": [
    "В проведенном эксперименте видно, что  в зависимости от того, какую максимальную глубину дерева мы выбираем мы получаем различные значения accuracy. Так, напрмер, по прлученным выше значениям видно, что при максимальной глубине дерева 22 мы достигаем максимальной accuracy для тренировочной модели, но при этом accuracy для валидационной выборки значительно падает. Также видно, что при максимальной глубине дерева 7, мы получаем не очень высокое значение accuracy для тренировочной выборки, но при этом данное значение для тренирововочной выборки максимальное, далее на следующем шаге при максимальной глубине дерева от 8 выше наблюдается рост accuracy для тренировочной выборки и падение данного показателя для валидационной выборки. Это говорит о переученности модели.\n",
    "\n",
    "Рассмотрим следующую модель."
   ]
  },
  {
   "cell_type": "markdown",
   "metadata": {},
   "source": [
    "### Модель случайный лес"
   ]
  },
  {
   "cell_type": "markdown",
   "metadata": {},
   "source": [
    "Рассмотрим моедль случайный лес, изменяя количество деревьев в лесу. При этом нужно помнить, что точность пердсказания и соответсвенно кажество модели выше, но при этом затрачивается больше времени на обработку и обучение модели, и чем больше строк, тем медленнее будет работать данный метод."
   ]
  },
  {
   "cell_type": "code",
   "execution_count": 24,
   "metadata": {},
   "outputs": [
    {
     "name": "stdout",
     "output_type": "stream",
     "text": [
      "est = 1: тренировочная выборка: 0.9035269709543569 --- валидационная выборка: 0.7216174183514774\n",
      "est = 2: тренировочная выборка: 0.9071576763485477 --- валидационная выборка: 0.7589424572317263\n",
      "est = 3: тренировочная выборка: 0.9491701244813278 --- валидационная выборка: 0.7667185069984448\n",
      "est = 4: тренировочная выборка: 0.9408713692946058 --- валидационная выборка: 0.7776049766718507\n",
      "est = 5: тренировочная выборка: 0.9704356846473029 --- валидационная выборка: 0.7729393468118196\n",
      "est = 6: тренировочная выборка: 0.9631742738589212 --- валидационная выборка: 0.776049766718507\n",
      "est = 7: тренировочная выборка: 0.9823651452282157 --- валидационная выборка: 0.7822706065318819\n",
      "est = 8: тренировочная выборка: 0.9766597510373444 --- валидационная выборка: 0.7853810264385692\n",
      "est = 9: тренировочная выборка: 0.9870331950207469 --- валидационная выборка: 0.7822706065318819\n",
      "est = 10: тренировочная выборка: 0.9849585062240664 --- валидационная выборка: 0.7900466562986003\n"
     ]
    }
   ],
   "source": [
    "# количество деревьев в лесу от 1 до 11\n",
    "best_model_forest = None\n",
    "best_result_forest = 0\n",
    "for est in range(1, 11):\n",
    "    model_forest = RandomForestClassifier(random_state=12345, n_estimators=est)\n",
    "    model_forest.fit(features_train, target_train)\n",
    "    result_forest_train = model_forest.score(features_train, target_train)\n",
    "    result_forest_valid = model_forest.score(features_valid, target_valid)\n",
    "    if result_tree > best_result:\n",
    "        print(f\"est = {est}: тренировочная выборка: {result_forest_train} --- валидационная выборка: {result_forest_valid}\")"
   ]
  },
  {
   "cell_type": "code",
   "execution_count": 25,
   "metadata": {},
   "outputs": [
    {
     "name": "stdout",
     "output_type": "stream",
     "text": [
      "est = 1: тренировочная выборка: 0.9035269709543569 --- валидационная выборка: 0.7216174183514774\n",
      "est = 4: тренировочная выборка: 0.9408713692946058 --- валидационная выборка: 0.7776049766718507\n",
      "est = 7: тренировочная выборка: 0.9823651452282157 --- валидационная выборка: 0.7822706065318819\n",
      "est = 10: тренировочная выборка: 0.9849585062240664 --- валидационная выборка: 0.7900466562986003\n",
      "est = 13: тренировочная выборка: 0.9896265560165975 --- валидационная выборка: 0.7947122861586314\n",
      "est = 16: тренировочная выборка: 0.9885892116182573 --- валидационная выборка: 0.7900466562986003\n",
      "est = 19: тренировочная выборка: 0.9927385892116183 --- валидационная выборка: 0.7962674961119751\n",
      "est = 22: тренировочная выборка: 0.9927385892116183 --- валидационная выборка: 0.7947122861586314\n",
      "est = 25: тренировочная выборка: 0.9953319502074689 --- валидационная выборка: 0.7884914463452566\n",
      "est = 28: тренировочная выборка: 0.9963692946058091 --- валидационная выборка: 0.7947122861586314\n",
      "est = 31: тренировочная выборка: 0.9979253112033195 --- валидационная выборка: 0.7978227060653188\n",
      "est = 34: тренировочная выборка: 0.9968879668049793 --- валидационная выборка: 0.7931570762052877\n",
      "est = 37: тренировочная выборка: 0.9974066390041494 --- валидационная выборка: 0.7993779160186625\n",
      "est = 40: тренировочная выборка: 0.9968879668049793 --- валидационная выборка: 0.7931570762052877\n",
      "est = 43: тренировочная выборка: 0.9974066390041494 --- валидационная выборка: 0.7884914463452566\n",
      "est = 46: тренировочная выборка: 0.9979253112033195 --- валидационная выборка: 0.7884914463452566\n",
      "est = 49: тренировочная выборка: 0.9984439834024896 --- валидационная выборка: 0.7869362363919129\n"
     ]
    }
   ],
   "source": [
    "# количество деревьев в лесу от 1 до 50\n",
    "best_model_forest = None\n",
    "best_result_forest = 0\n",
    "for est in range(1, 50, 3):\n",
    "    model_forest = RandomForestClassifier(random_state=12345, n_estimators=est)\n",
    "    model_forest.fit(features_train, target_train)\n",
    "    result_forest_train = model_forest.score(features_train, target_train)\n",
    "    result_forest_valid = model_forest.score(features_valid, target_valid)\n",
    "    if result_tree > best_result:\n",
    "        print(f\"est = {est}: тренировочная выборка: {result_forest_train} --- валидационная выборка: {result_forest_valid}\")"
   ]
  },
  {
   "cell_type": "markdown",
   "metadata": {},
   "source": [
    "В проведенном эксперименте получили: небольше количесвто деревьев в лесу при объеме строк до 2000 обрабатывается достаточно быстро, при этом по сравнению с предыдущей моделью качество обучения выше. При этом видно, что при количестве деревьев в лесу около 37 мы имеем самые максимальные значения по валидационной выборке, дпльше показатели точности предсказания начинают падать. При этом в данном опыте максимальное значение по валидационно выборке не значительно, но тем не менее выше, чем при использовании модели дерево решения. Также в ходе выполнения данной задачи, когда количество деревьев начало измеряться десятками, программа немного подвисала при выполнении кода. Об этом говорилось выше, точность предская высокая, но скорость выполнения медленная.\n",
    "\n",
    "Перейдем к еще одной модели."
   ]
  },
  {
   "cell_type": "markdown",
   "metadata": {},
   "source": [
    "### Логическая регрессия"
   ]
  },
  {
   "cell_type": "markdown",
   "metadata": {},
   "source": [
    "Данный вид модели является достаточно инересным. Это свяано с тем, что в отличе от двух предыущих можелей, здесь нет большого колчиества настраиваемых гиперпараметров, но при этом данная модель имеет хорошую точность выполнения предсказания, а также высокую скорость выполнения. Рассмотрим данную модель."
   ]
  },
  {
   "cell_type": "code",
   "execution_count": 26,
   "metadata": {},
   "outputs": [
    {
     "name": "stdout",
     "output_type": "stream",
     "text": [
      "Accuracy модели логической регрессии на валидационной выборке: 0.7278382581648523\n"
     ]
    }
   ],
   "source": [
    "model_regrassion = LogisticRegression(random_state=12345)\n",
    "model_regrassion.fit(features_train, target_train)\n",
    "result_regrassion = model_regrassion.score(features_valid, target_valid)\n",
    "print(f\"Accuracy модели логической регрессии на валидационной выборке: {result_regrassion}\")"
   ]
  },
  {
   "cell_type": "markdown",
   "metadata": {},
   "source": [
    "Данный метод оказался неубедительным, так как на предыдущих двух моделях accuracy на валидационной выборке были выше. Проверим эти модели с тестовой выборкой."
   ]
  },
  {
   "cell_type": "markdown",
   "metadata": {},
   "source": [
    "### Вывод"
   ]
  },
  {
   "cell_type": "markdown",
   "metadata": {},
   "source": [
    "В данном раздели мы расмотрели 3 модели обучения:\n",
    "\n",
    "1) дерево решения\n",
    "2) случайный лес\n",
    "3) логическая регрессия\n",
    "\n",
    "Получили представления, как изменнения гиперпараметров могу влиятьь на точность предсказания. Так для решающего дерева на наших данных оптимальной глубиной является 7, для случайного леса количество деревьев - 37. Наихудшие результаты получили для логической регрессии.\n",
    "\n",
    "Посмотрим поведение каждой модели для тестовой выборки."
   ]
  },
  {
   "cell_type": "markdown",
   "metadata": {},
   "source": [
    "## Проверим модель на тестовой выборке"
   ]
  },
  {
   "cell_type": "markdown",
   "metadata": {},
   "source": [
    "По условию задания нам нужно достичь accuracy более 0.75"
   ]
  },
  {
   "cell_type": "markdown",
   "metadata": {},
   "source": [
    "### Проверка модели решающее дерево"
   ]
  },
  {
   "cell_type": "code",
   "execution_count": 27,
   "metadata": {},
   "outputs": [
    {
     "name": "stdout",
     "output_type": "stream",
     "text": [
      "Accuracy лучшей модели: 0.7822706065318819\n"
     ]
    }
   ],
   "source": [
    "# проверим модель решающее дерево на тестовой выборке\n",
    "model_tree = DecisionTreeClassifier(random_state=12345, max_depth = 7)\n",
    "model_tree.fit(features_train, target_train)\n",
    "predictions_tree_test = model_tree.predict(features_test)\n",
    "result_tree_test = accuracy_score(target_test, predictions_tree_test)\n",
    "print(f\"Accuracy лучшей модели: {result_tree_test}\")"
   ]
  },
  {
   "cell_type": "markdown",
   "metadata": {},
   "source": [
    "В данной модели наше accuracy составило 0.78, что соответствует условию задачи. "
   ]
  },
  {
   "cell_type": "markdown",
   "metadata": {},
   "source": [
    "### Проверка модели случайный лес"
   ]
  },
  {
   "cell_type": "code",
   "execution_count": 28,
   "metadata": {},
   "outputs": [
    {
     "name": "stdout",
     "output_type": "stream",
     "text": [
      "Accuracy лучшей модели: 0.7962674961119751\n"
     ]
    }
   ],
   "source": [
    "# количество деревьев в лесу 37\n",
    "model_forest = RandomForestClassifier(random_state=12345, n_estimators=37)\n",
    "model_forest.fit(features_train, target_train)\n",
    "result_forest_test = model_forest.score(features_test, target_test)\n",
    "print(f\"Accuracy лучшей модели: {result_forest_test}\")"
   ]
  },
  {
   "cell_type": "markdown",
   "metadata": {},
   "source": [
    "В данной модели мы получили accuracy равное 0.79. Данное значение выше, чем в решающем дереве, но при этом данная модель немного подвисла, при расчетах, рпи том, что количество строк было 643."
   ]
  },
  {
   "cell_type": "markdown",
   "metadata": {},
   "source": [
    "### Проверка модели логическая регрессия"
   ]
  },
  {
   "cell_type": "code",
   "execution_count": 29,
   "metadata": {},
   "outputs": [
    {
     "name": "stdout",
     "output_type": "stream",
     "text": [
      "Accuracy модели логической регрессии на тестовой выборке: 0.7511664074650077\n"
     ]
    }
   ],
   "source": [
    "model_regrassion = LogisticRegression(random_state=12345)\n",
    "model_regrassion.fit(features_train, target_train)\n",
    "result_regrassion_test = model_regrassion.score(features_test, target_test)\n",
    "print(f\"Accuracy модели логической регрессии на тестовой выборке: {result_regrassion_test}\")"
   ]
  },
  {
   "cell_type": "markdown",
   "metadata": {},
   "source": [
    "В целом в данной модели нам тоже удалось достичь поставленного уровня accuracy, но на валидационной выборке данная моедль себя показа плохо."
   ]
  },
  {
   "cell_type": "markdown",
   "metadata": {},
   "source": [
    "### Вывод"
   ]
  },
  {
   "cell_type": "markdown",
   "metadata": {},
   "source": [
    "В ходе проверки трех моделей на тестовой выборке, все три модели показали accuracy, превышающий заданный, но модель логической регрессии очень плохо показала себя на валидационной выборке.\n",
    "\n",
    "Поэтому выбирая между двумя моделями: решающее дерево и случайный лес, выбор модели обучения зависит от оюъем датасета. Если объем небольшой, то лучше выбрать случайный лес, так как точность там выше, но скорость выполнения ниже. Но если объем данных большой, то можно использовать и решающее дерево"
   ]
  },
  {
   "cell_type": "markdown",
   "metadata": {},
   "source": [
    "## (бонус) Проверим модели на адекватность"
   ]
  },
  {
   "cell_type": "markdown",
   "metadata": {},
   "source": [
    "Для решения данной задачи импортируем DummyClassifier - модуль, который для прогнозов использует простые правила."
   ]
  },
  {
   "cell_type": "code",
   "execution_count": 30,
   "metadata": {},
   "outputs": [],
   "source": [
    "data_dummy = DummyClassifier(strategy='most_frequent', random_state=12345)"
   ]
  },
  {
   "cell_type": "code",
   "execution_count": 31,
   "metadata": {},
   "outputs": [
    {
     "name": "stdout",
     "output_type": "stream",
     "text": [
      "Доля правильных ответов валидационная выборка: 0.6842923794712286\n",
      "Доля правильных ответов тестовая выборка: 0.7060653188180405\n"
     ]
    }
   ],
   "source": [
    "# обучаем модель\n",
    "data_dummy.fit(features_train, target_train)\n",
    "# доля правильных ответов\n",
    "result_data_dammy_valid = data_dummy.score(features_valid, target_valid)\n",
    "result_data_dammy_test = data_dummy.score(features_test, target_test)\n",
    "print(f\"Доля правильных ответов валидационная выборка: {result_data_dammy_valid}\")\n",
    "print(f\"Доля правильных ответов тестовая выборка: {result_data_dammy_test}\")"
   ]
  },
  {
   "cell_type": "markdown",
   "metadata": {},
   "source": [
    "Полученные результаты accuracy для валидационной и тестовой выборки модели, построенной DummyClassifier ниже, чем для нашей модели, соответственно, можно сделать вывод о том, что наша модель адеквартная."
   ]
  },
  {
   "cell_type": "markdown",
   "metadata": {},
   "source": [
    "## Общий вывод"
   ]
  },
  {
   "cell_type": "markdown",
   "metadata": {},
   "source": [
    "В ходе проверки трех моделей на тестовой выборке, все три модели показали accuracy, превышающий заданный, но модель логической регрессии очень плохо показала себя на валидационной выборке.\n",
    "\n",
    "Поэтому выбирая между двумя моделями: решающее дерево и случайный лес, выбор модели обучения зависит от оюъем датасета. Если объем небольшой, то лучше выбрать случайный лес, так как точность там выше, но скорость выполнения ниже. Но если объем данных большой, то можно использовать и решающее дерево.\n",
    "\n",
    "При исследовании модели на адекватность, мы выяснили, что модель адекваная."
   ]
  }
 ],
 "metadata": {
  "ExecuteTimeLog": [
   {
    "duration": 1074,
    "start_time": "2022-02-27T21:55:00.049Z"
   },
   {
    "duration": 2151,
    "start_time": "2022-02-27T21:55:01.125Z"
   },
   {
    "duration": 19,
    "start_time": "2022-02-27T21:55:31.772Z"
   },
   {
    "duration": 19,
    "start_time": "2022-02-27T21:56:04.765Z"
   },
   {
    "duration": 7,
    "start_time": "2022-02-27T21:58:58.372Z"
   },
   {
    "duration": 1300,
    "start_time": "2022-02-28T20:36:37.752Z"
   },
   {
    "duration": 21,
    "start_time": "2022-02-28T20:36:39.055Z"
   },
   {
    "duration": 25,
    "start_time": "2022-02-28T20:36:39.079Z"
   },
   {
    "duration": 8,
    "start_time": "2022-02-28T20:36:39.106Z"
   },
   {
    "duration": 4,
    "start_time": "2022-02-28T20:37:31.642Z"
   },
   {
    "duration": 5,
    "start_time": "2022-02-28T20:38:32.428Z"
   },
   {
    "duration": 10,
    "start_time": "2022-02-28T20:41:16.643Z"
   },
   {
    "duration": 9,
    "start_time": "2022-02-28T20:41:45.415Z"
   },
   {
    "duration": 9,
    "start_time": "2022-02-28T20:42:08.273Z"
   },
   {
    "duration": 10,
    "start_time": "2022-02-28T20:42:29.578Z"
   },
   {
    "duration": 6,
    "start_time": "2022-02-28T20:43:02.703Z"
   },
   {
    "duration": 338,
    "start_time": "2022-02-28T20:43:16.358Z"
   },
   {
    "duration": 7,
    "start_time": "2022-02-28T20:43:30.094Z"
   },
   {
    "duration": 5,
    "start_time": "2022-02-28T20:54:35.623Z"
   },
   {
    "duration": 9,
    "start_time": "2022-02-28T20:54:46.015Z"
   },
   {
    "duration": 7,
    "start_time": "2022-02-28T20:55:07.941Z"
   },
   {
    "duration": 9,
    "start_time": "2022-02-28T20:55:08.710Z"
   },
   {
    "duration": 7,
    "start_time": "2022-02-28T21:04:04.910Z"
   },
   {
    "duration": 102,
    "start_time": "2022-02-28T21:05:13.641Z"
   },
   {
    "duration": 7,
    "start_time": "2022-02-28T21:05:25.261Z"
   },
   {
    "duration": 7,
    "start_time": "2022-02-28T21:06:17.488Z"
   },
   {
    "duration": 6,
    "start_time": "2022-02-28T21:07:58.875Z"
   },
   {
    "duration": 5,
    "start_time": "2022-02-28T21:08:18.783Z"
   },
   {
    "duration": 5,
    "start_time": "2022-02-28T21:08:44.086Z"
   },
   {
    "duration": 1228,
    "start_time": "2022-03-02T13:19:19.098Z"
   },
   {
    "duration": 15,
    "start_time": "2022-03-02T13:19:20.328Z"
   },
   {
    "duration": 41,
    "start_time": "2022-03-02T13:19:20.345Z"
   },
   {
    "duration": 24,
    "start_time": "2022-03-02T13:19:20.388Z"
   },
   {
    "duration": 36,
    "start_time": "2022-03-02T13:19:20.414Z"
   },
   {
    "duration": 25,
    "start_time": "2022-03-02T13:19:20.452Z"
   },
   {
    "duration": 34,
    "start_time": "2022-03-02T13:19:20.479Z"
   },
   {
    "duration": 28,
    "start_time": "2022-03-02T13:19:20.516Z"
   },
   {
    "duration": 32,
    "start_time": "2022-03-02T13:19:20.546Z"
   },
   {
    "duration": 17,
    "start_time": "2022-03-02T13:19:20.580Z"
   },
   {
    "duration": 20,
    "start_time": "2022-03-02T13:19:20.599Z"
   },
   {
    "duration": 27,
    "start_time": "2022-03-02T13:19:20.621Z"
   },
   {
    "duration": 36,
    "start_time": "2022-03-02T13:19:20.650Z"
   },
   {
    "duration": 29,
    "start_time": "2022-03-02T13:19:20.688Z"
   },
   {
    "duration": 33,
    "start_time": "2022-03-02T13:19:20.719Z"
   },
   {
    "duration": 33,
    "start_time": "2022-03-02T13:19:20.754Z"
   },
   {
    "duration": 327,
    "start_time": "2022-03-02T14:26:31.379Z"
   },
   {
    "duration": 233,
    "start_time": "2022-03-02T14:26:41.016Z"
   },
   {
    "duration": 222,
    "start_time": "2022-03-02T14:26:52.925Z"
   },
   {
    "duration": 3,
    "start_time": "2022-03-02T14:27:21.797Z"
   },
   {
    "duration": 5,
    "start_time": "2022-03-02T14:30:54.886Z"
   },
   {
    "duration": 5,
    "start_time": "2022-03-02T14:32:24.605Z"
   },
   {
    "duration": 5,
    "start_time": "2022-03-02T14:32:25.109Z"
   },
   {
    "duration": 216,
    "start_time": "2022-03-02T14:42:17.291Z"
   },
   {
    "duration": 267,
    "start_time": "2022-03-02T14:47:34.216Z"
   },
   {
    "duration": 1288,
    "start_time": "2022-03-02T14:49:12.769Z"
   },
   {
    "duration": 19,
    "start_time": "2022-03-02T14:49:14.060Z"
   },
   {
    "duration": 22,
    "start_time": "2022-03-02T14:49:14.082Z"
   },
   {
    "duration": 6,
    "start_time": "2022-03-02T14:49:14.106Z"
   },
   {
    "duration": 8,
    "start_time": "2022-03-02T14:49:14.114Z"
   },
   {
    "duration": 17,
    "start_time": "2022-03-02T14:49:14.123Z"
   },
   {
    "duration": 11,
    "start_time": "2022-03-02T14:49:14.142Z"
   },
   {
    "duration": 6,
    "start_time": "2022-03-02T14:49:14.155Z"
   },
   {
    "duration": 8,
    "start_time": "2022-03-02T14:49:14.164Z"
   },
   {
    "duration": 31,
    "start_time": "2022-03-02T14:49:14.174Z"
   },
   {
    "duration": 5,
    "start_time": "2022-03-02T14:49:14.207Z"
   },
   {
    "duration": 13,
    "start_time": "2022-03-02T14:49:14.214Z"
   },
   {
    "duration": 16,
    "start_time": "2022-03-02T14:49:14.229Z"
   },
   {
    "duration": 8,
    "start_time": "2022-03-02T14:49:14.247Z"
   },
   {
    "duration": 20,
    "start_time": "2022-03-02T14:49:14.257Z"
   },
   {
    "duration": 8,
    "start_time": "2022-03-02T14:49:14.279Z"
   },
   {
    "duration": 11,
    "start_time": "2022-03-02T14:49:14.290Z"
   },
   {
    "duration": 13,
    "start_time": "2022-03-02T14:49:14.303Z"
   },
   {
    "duration": 12,
    "start_time": "2022-03-02T14:49:14.318Z"
   },
   {
    "duration": 322,
    "start_time": "2022-03-02T14:49:14.331Z"
   },
   {
    "duration": 222,
    "start_time": "2022-03-02T14:51:48.908Z"
   },
   {
    "duration": 4,
    "start_time": "2022-03-02T14:52:25.921Z"
   },
   {
    "duration": 6,
    "start_time": "2022-03-02T14:52:30.396Z"
   },
   {
    "duration": 5,
    "start_time": "2022-03-02T14:52:54.018Z"
   },
   {
    "duration": 6,
    "start_time": "2022-03-02T14:53:18.349Z"
   },
   {
    "duration": 6,
    "start_time": "2022-03-02T14:53:30.081Z"
   },
   {
    "duration": 1173,
    "start_time": "2022-03-02T14:53:51.392Z"
   },
   {
    "duration": 15,
    "start_time": "2022-03-02T14:53:52.567Z"
   },
   {
    "duration": 24,
    "start_time": "2022-03-02T14:53:52.584Z"
   },
   {
    "duration": 16,
    "start_time": "2022-03-02T14:53:52.609Z"
   },
   {
    "duration": 15,
    "start_time": "2022-03-02T14:53:52.627Z"
   },
   {
    "duration": 16,
    "start_time": "2022-03-02T14:53:52.644Z"
   },
   {
    "duration": 22,
    "start_time": "2022-03-02T14:53:52.662Z"
   },
   {
    "duration": 14,
    "start_time": "2022-03-02T14:53:52.687Z"
   },
   {
    "duration": 15,
    "start_time": "2022-03-02T14:53:52.703Z"
   },
   {
    "duration": 12,
    "start_time": "2022-03-02T14:53:52.720Z"
   },
   {
    "duration": 17,
    "start_time": "2022-03-02T14:53:52.734Z"
   },
   {
    "duration": 17,
    "start_time": "2022-03-02T14:53:52.753Z"
   },
   {
    "duration": 19,
    "start_time": "2022-03-02T14:53:52.772Z"
   },
   {
    "duration": 14,
    "start_time": "2022-03-02T14:53:52.793Z"
   },
   {
    "duration": 12,
    "start_time": "2022-03-02T14:53:52.809Z"
   },
   {
    "duration": 10,
    "start_time": "2022-03-02T14:53:52.823Z"
   },
   {
    "duration": 12,
    "start_time": "2022-03-02T14:53:52.834Z"
   },
   {
    "duration": 9,
    "start_time": "2022-03-02T14:53:52.848Z"
   },
   {
    "duration": 10,
    "start_time": "2022-03-02T14:53:52.859Z"
   },
   {
    "duration": 327,
    "start_time": "2022-03-02T14:53:52.871Z"
   },
   {
    "duration": -5071,
    "start_time": "2022-03-02T14:53:58.272Z"
   },
   {
    "duration": 5,
    "start_time": "2022-03-02T14:54:03.000Z"
   },
   {
    "duration": 28,
    "start_time": "2022-03-02T14:54:22.152Z"
   },
   {
    "duration": 58,
    "start_time": "2022-03-02T14:54:33.884Z"
   },
   {
    "duration": 225,
    "start_time": "2022-03-02T14:56:33.826Z"
   },
   {
    "duration": 54,
    "start_time": "2022-03-02T14:56:42.771Z"
   },
   {
    "duration": 55,
    "start_time": "2022-03-02T14:57:54.388Z"
   },
   {
    "duration": 18,
    "start_time": "2022-03-02T14:58:06.627Z"
   },
   {
    "duration": 1323,
    "start_time": "2022-03-02T20:13:04.887Z"
   },
   {
    "duration": 22,
    "start_time": "2022-03-02T20:13:06.213Z"
   },
   {
    "duration": 22,
    "start_time": "2022-03-02T20:13:06.238Z"
   },
   {
    "duration": 8,
    "start_time": "2022-03-02T20:13:06.262Z"
   },
   {
    "duration": 4,
    "start_time": "2022-03-02T20:13:06.286Z"
   },
   {
    "duration": 6,
    "start_time": "2022-03-02T20:13:06.292Z"
   },
   {
    "duration": 15,
    "start_time": "2022-03-02T20:13:06.301Z"
   },
   {
    "duration": 8,
    "start_time": "2022-03-02T20:13:06.319Z"
   },
   {
    "duration": 8,
    "start_time": "2022-03-02T20:13:06.330Z"
   },
   {
    "duration": 49,
    "start_time": "2022-03-02T20:13:06.340Z"
   },
   {
    "duration": 6,
    "start_time": "2022-03-02T20:13:06.392Z"
   },
   {
    "duration": 11,
    "start_time": "2022-03-02T20:13:06.400Z"
   },
   {
    "duration": 16,
    "start_time": "2022-03-02T20:13:06.413Z"
   },
   {
    "duration": 9,
    "start_time": "2022-03-02T20:13:06.431Z"
   },
   {
    "duration": 8,
    "start_time": "2022-03-02T20:13:06.442Z"
   },
   {
    "duration": 18,
    "start_time": "2022-03-02T20:13:06.452Z"
   },
   {
    "duration": 21,
    "start_time": "2022-03-02T20:13:06.472Z"
   },
   {
    "duration": 5,
    "start_time": "2022-03-02T20:13:06.496Z"
   },
   {
    "duration": 8,
    "start_time": "2022-03-02T20:13:06.504Z"
   },
   {
    "duration": 360,
    "start_time": "2022-03-02T20:13:06.514Z"
   },
   {
    "duration": -4537,
    "start_time": "2022-03-02T20:13:11.414Z"
   },
   {
    "duration": 120,
    "start_time": "2022-03-02T20:13:31.937Z"
   },
   {
    "duration": 35,
    "start_time": "2022-03-02T20:14:09.499Z"
   },
   {
    "duration": 36,
    "start_time": "2022-03-02T20:16:48.513Z"
   },
   {
    "duration": 55,
    "start_time": "2022-03-02T20:17:17.682Z"
   },
   {
    "duration": 35,
    "start_time": "2022-03-02T20:17:38.560Z"
   },
   {
    "duration": 53,
    "start_time": "2022-03-02T20:17:55.728Z"
   },
   {
    "duration": 44,
    "start_time": "2022-03-02T20:19:40.642Z"
   },
   {
    "duration": 63,
    "start_time": "2022-03-02T20:20:45.803Z"
   },
   {
    "duration": 69,
    "start_time": "2022-03-02T20:23:23.669Z"
   },
   {
    "duration": 105,
    "start_time": "2022-03-02T20:23:49.755Z"
   },
   {
    "duration": 91,
    "start_time": "2022-03-02T20:28:44.339Z"
   },
   {
    "duration": 97,
    "start_time": "2022-03-02T20:38:35.371Z"
   },
   {
    "duration": 92,
    "start_time": "2022-03-02T20:39:36.017Z"
   },
   {
    "duration": 235,
    "start_time": "2022-03-02T20:59:00.951Z"
   },
   {
    "duration": 380,
    "start_time": "2022-03-02T20:59:13.387Z"
   },
   {
    "duration": 1342,
    "start_time": "2022-03-02T20:59:45.896Z"
   },
   {
    "duration": 2415,
    "start_time": "2022-03-02T20:59:58.722Z"
   },
   {
    "duration": 354,
    "start_time": "2022-03-02T21:02:14.159Z"
   },
   {
    "duration": 372,
    "start_time": "2022-03-02T21:02:22.380Z"
   },
   {
    "duration": 368,
    "start_time": "2022-03-02T21:02:40.048Z"
   },
   {
    "duration": 2450,
    "start_time": "2022-03-02T21:02:45.195Z"
   },
   {
    "duration": 25,
    "start_time": "2022-03-02T21:22:26.237Z"
   },
   {
    "duration": 75,
    "start_time": "2022-03-02T21:34:18.659Z"
   },
   {
    "duration": 50,
    "start_time": "2022-03-02T21:34:29.800Z"
   },
   {
    "duration": 226,
    "start_time": "2022-03-02T21:39:26.356Z"
   },
   {
    "duration": 254,
    "start_time": "2022-03-02T21:39:33.781Z"
   },
   {
    "duration": 241,
    "start_time": "2022-03-02T21:40:11.191Z"
   },
   {
    "duration": 1199,
    "start_time": "2022-03-02T21:40:38.904Z"
   },
   {
    "duration": 253,
    "start_time": "2022-03-02T21:44:07.053Z"
   },
   {
    "duration": 23,
    "start_time": "2022-03-02T21:44:15.673Z"
   },
   {
    "duration": 23,
    "start_time": "2022-03-02T21:44:35.066Z"
   },
   {
    "duration": 5,
    "start_time": "2022-03-02T21:50:47.042Z"
   },
   {
    "duration": 254,
    "start_time": "2022-03-02T21:54:01.549Z"
   },
   {
    "duration": 4,
    "start_time": "2022-03-02T21:54:10.390Z"
   },
   {
    "duration": 8,
    "start_time": "2022-03-02T21:55:08.996Z"
   },
   {
    "duration": 8,
    "start_time": "2022-03-02T21:57:39.663Z"
   },
   {
    "duration": 9,
    "start_time": "2022-03-02T21:58:05.214Z"
   },
   {
    "duration": 1453,
    "start_time": "2022-03-02T22:05:17.587Z"
   },
   {
    "duration": 16,
    "start_time": "2022-03-02T22:05:19.043Z"
   },
   {
    "duration": 36,
    "start_time": "2022-03-02T22:05:19.063Z"
   },
   {
    "duration": 13,
    "start_time": "2022-03-02T22:05:19.102Z"
   },
   {
    "duration": 6,
    "start_time": "2022-03-02T22:05:19.118Z"
   },
   {
    "duration": 9,
    "start_time": "2022-03-02T22:05:19.126Z"
   },
   {
    "duration": 11,
    "start_time": "2022-03-02T22:05:19.137Z"
   },
   {
    "duration": 43,
    "start_time": "2022-03-02T22:05:19.152Z"
   },
   {
    "duration": 16,
    "start_time": "2022-03-02T22:05:19.198Z"
   },
   {
    "duration": 13,
    "start_time": "2022-03-02T22:05:19.216Z"
   },
   {
    "duration": 10,
    "start_time": "2022-03-02T22:05:19.232Z"
   },
   {
    "duration": 43,
    "start_time": "2022-03-02T22:05:19.245Z"
   },
   {
    "duration": 11,
    "start_time": "2022-03-02T22:05:19.290Z"
   },
   {
    "duration": 9,
    "start_time": "2022-03-02T22:05:19.303Z"
   },
   {
    "duration": 27,
    "start_time": "2022-03-02T22:05:19.314Z"
   },
   {
    "duration": 8,
    "start_time": "2022-03-02T22:05:19.343Z"
   },
   {
    "duration": 8,
    "start_time": "2022-03-02T22:05:19.356Z"
   },
   {
    "duration": 21,
    "start_time": "2022-03-02T22:05:19.366Z"
   },
   {
    "duration": 8,
    "start_time": "2022-03-02T22:05:19.390Z"
   },
   {
    "duration": 123,
    "start_time": "2022-03-02T22:05:19.401Z"
   },
   {
    "duration": 181,
    "start_time": "2022-03-02T22:05:19.528Z"
   },
   {
    "duration": 622,
    "start_time": "2022-03-02T22:05:19.712Z"
   },
   {
    "duration": 3838,
    "start_time": "2022-03-02T22:05:20.341Z"
   },
   {
    "duration": 32,
    "start_time": "2022-03-02T22:05:24.186Z"
   },
   {
    "duration": 80,
    "start_time": "2022-03-02T22:05:24.221Z"
   },
   {
    "duration": 1743,
    "start_time": "2022-03-02T22:05:24.304Z"
   },
   {
    "duration": 44,
    "start_time": "2022-03-02T22:05:26.050Z"
   },
   {
    "duration": 4,
    "start_time": "2022-03-02T22:05:26.097Z"
   },
   {
    "duration": 15,
    "start_time": "2022-03-02T22:05:26.104Z"
   },
   {
    "duration": 1832,
    "start_time": "2022-03-02T22:06:05.937Z"
   },
   {
    "duration": 20,
    "start_time": "2022-03-02T22:06:07.773Z"
   },
   {
    "duration": 35,
    "start_time": "2022-03-02T22:06:07.796Z"
   },
   {
    "duration": 10,
    "start_time": "2022-03-02T22:06:07.834Z"
   },
   {
    "duration": 5,
    "start_time": "2022-03-02T22:06:07.847Z"
   },
   {
    "duration": 4,
    "start_time": "2022-03-02T22:06:07.888Z"
   },
   {
    "duration": 12,
    "start_time": "2022-03-02T22:06:07.894Z"
   },
   {
    "duration": 9,
    "start_time": "2022-03-02T22:06:07.910Z"
   },
   {
    "duration": 12,
    "start_time": "2022-03-02T22:06:07.922Z"
   },
   {
    "duration": 53,
    "start_time": "2022-03-02T22:06:07.936Z"
   },
   {
    "duration": 8,
    "start_time": "2022-03-02T22:06:07.992Z"
   },
   {
    "duration": 9,
    "start_time": "2022-03-02T22:06:08.003Z"
   },
   {
    "duration": 11,
    "start_time": "2022-03-02T22:06:08.015Z"
   },
   {
    "duration": 8,
    "start_time": "2022-03-02T22:06:08.029Z"
   },
   {
    "duration": 8,
    "start_time": "2022-03-02T22:06:08.088Z"
   },
   {
    "duration": 7,
    "start_time": "2022-03-02T22:06:08.099Z"
   },
   {
    "duration": 6,
    "start_time": "2022-03-02T22:06:08.109Z"
   },
   {
    "duration": 7,
    "start_time": "2022-03-02T22:06:08.118Z"
   },
   {
    "duration": 8,
    "start_time": "2022-03-02T22:06:08.127Z"
   },
   {
    "duration": 134,
    "start_time": "2022-03-02T22:06:08.137Z"
   },
   {
    "duration": 126,
    "start_time": "2022-03-02T22:06:08.273Z"
   },
   {
    "duration": 428,
    "start_time": "2022-03-02T22:06:08.401Z"
   },
   {
    "duration": 2561,
    "start_time": "2022-03-02T22:06:08.831Z"
   },
   {
    "duration": 25,
    "start_time": "2022-03-02T22:06:11.395Z"
   },
   {
    "duration": 74,
    "start_time": "2022-03-02T22:06:11.422Z"
   },
   {
    "duration": 1243,
    "start_time": "2022-03-02T22:06:11.502Z"
   },
   {
    "duration": 41,
    "start_time": "2022-03-02T22:06:12.748Z"
   },
   {
    "duration": 4,
    "start_time": "2022-03-02T22:06:12.792Z"
   },
   {
    "duration": 11,
    "start_time": "2022-03-02T22:06:12.799Z"
   },
   {
    "duration": 988,
    "start_time": "2022-03-03T07:28:36.219Z"
   },
   {
    "duration": 18,
    "start_time": "2022-03-03T07:28:37.209Z"
   },
   {
    "duration": 14,
    "start_time": "2022-03-03T07:28:37.229Z"
   },
   {
    "duration": 5,
    "start_time": "2022-03-03T07:28:37.245Z"
   },
   {
    "duration": 5,
    "start_time": "2022-03-03T07:28:37.252Z"
   },
   {
    "duration": 5,
    "start_time": "2022-03-03T07:28:37.259Z"
   },
   {
    "duration": 9,
    "start_time": "2022-03-03T07:28:37.266Z"
   },
   {
    "duration": 5,
    "start_time": "2022-03-03T07:28:37.277Z"
   },
   {
    "duration": 6,
    "start_time": "2022-03-03T07:28:37.302Z"
   },
   {
    "duration": 6,
    "start_time": "2022-03-03T07:28:37.310Z"
   },
   {
    "duration": 4,
    "start_time": "2022-03-03T07:28:37.317Z"
   },
   {
    "duration": 8,
    "start_time": "2022-03-03T07:28:37.323Z"
   },
   {
    "duration": 11,
    "start_time": "2022-03-03T07:28:37.332Z"
   },
   {
    "duration": 5,
    "start_time": "2022-03-03T07:28:37.345Z"
   },
   {
    "duration": 6,
    "start_time": "2022-03-03T07:28:37.352Z"
   },
   {
    "duration": 6,
    "start_time": "2022-03-03T07:28:37.359Z"
   },
   {
    "duration": 13,
    "start_time": "2022-03-03T07:28:37.366Z"
   },
   {
    "duration": 20,
    "start_time": "2022-03-03T07:28:37.381Z"
   },
   {
    "duration": 10,
    "start_time": "2022-03-03T07:28:37.403Z"
   },
   {
    "duration": 65,
    "start_time": "2022-03-03T07:28:37.415Z"
   },
   {
    "duration": 73,
    "start_time": "2022-03-03T07:28:37.482Z"
   },
   {
    "duration": 269,
    "start_time": "2022-03-03T07:28:37.557Z"
   },
   {
    "duration": 1574,
    "start_time": "2022-03-03T07:28:37.828Z"
   },
   {
    "duration": 12,
    "start_time": "2022-03-03T07:28:39.403Z"
   },
   {
    "duration": 28,
    "start_time": "2022-03-03T07:28:39.416Z"
   },
   {
    "duration": 717,
    "start_time": "2022-03-03T07:28:39.445Z"
   },
   {
    "duration": 10,
    "start_time": "2022-03-03T07:28:40.165Z"
   },
   {
    "duration": 2,
    "start_time": "2022-03-03T07:28:40.177Z"
   },
   {
    "duration": 23,
    "start_time": "2022-03-03T07:28:40.180Z"
   },
   {
    "duration": 953,
    "start_time": "2022-03-03T07:30:50.758Z"
   },
   {
    "duration": 18,
    "start_time": "2022-03-03T07:30:51.713Z"
   },
   {
    "duration": 19,
    "start_time": "2022-03-03T07:30:51.733Z"
   },
   {
    "duration": 6,
    "start_time": "2022-03-03T07:30:51.753Z"
   },
   {
    "duration": 3,
    "start_time": "2022-03-03T07:30:51.760Z"
   },
   {
    "duration": 4,
    "start_time": "2022-03-03T07:30:51.765Z"
   },
   {
    "duration": 7,
    "start_time": "2022-03-03T07:30:51.770Z"
   },
   {
    "duration": 5,
    "start_time": "2022-03-03T07:30:51.780Z"
   },
   {
    "duration": 18,
    "start_time": "2022-03-03T07:30:51.787Z"
   },
   {
    "duration": 6,
    "start_time": "2022-03-03T07:30:51.807Z"
   },
   {
    "duration": 6,
    "start_time": "2022-03-03T07:30:51.815Z"
   },
   {
    "duration": 9,
    "start_time": "2022-03-03T07:30:51.823Z"
   },
   {
    "duration": 13,
    "start_time": "2022-03-03T07:30:51.833Z"
   },
   {
    "duration": 5,
    "start_time": "2022-03-03T07:30:51.848Z"
   },
   {
    "duration": 8,
    "start_time": "2022-03-03T07:30:51.854Z"
   },
   {
    "duration": 7,
    "start_time": "2022-03-03T07:30:51.864Z"
   },
   {
    "duration": 8,
    "start_time": "2022-03-03T07:30:51.873Z"
   },
   {
    "duration": 9,
    "start_time": "2022-03-03T07:30:51.883Z"
   },
   {
    "duration": 2,
    "start_time": "2022-03-03T07:30:51.902Z"
   },
   {
    "duration": 61,
    "start_time": "2022-03-03T07:30:51.906Z"
   },
   {
    "duration": 76,
    "start_time": "2022-03-03T07:30:51.969Z"
   },
   {
    "duration": 259,
    "start_time": "2022-03-03T07:30:52.046Z"
   },
   {
    "duration": 1552,
    "start_time": "2022-03-03T07:30:52.307Z"
   },
   {
    "duration": 11,
    "start_time": "2022-03-03T07:30:53.861Z"
   },
   {
    "duration": 37,
    "start_time": "2022-03-03T07:30:53.873Z"
   },
   {
    "duration": 702,
    "start_time": "2022-03-03T07:30:53.911Z"
   },
   {
    "duration": 11,
    "start_time": "2022-03-03T07:30:54.614Z"
   },
   {
    "duration": 19,
    "start_time": "2022-03-03T07:30:54.627Z"
   },
   {
    "duration": 22,
    "start_time": "2022-03-03T07:30:54.648Z"
   },
   {
    "duration": 70,
    "start_time": "2022-03-03T07:38:34.498Z"
   },
   {
    "duration": 3,
    "start_time": "2022-03-03T07:38:45.419Z"
   },
   {
    "duration": 32,
    "start_time": "2022-03-03T07:38:45.424Z"
   },
   {
    "duration": 8,
    "start_time": "2022-03-03T07:38:45.458Z"
   },
   {
    "duration": 6,
    "start_time": "2022-03-03T07:38:45.468Z"
   },
   {
    "duration": 4,
    "start_time": "2022-03-03T07:38:45.475Z"
   },
   {
    "duration": 3,
    "start_time": "2022-03-03T07:38:45.481Z"
   },
   {
    "duration": 6,
    "start_time": "2022-03-03T07:38:45.485Z"
   },
   {
    "duration": 7,
    "start_time": "2022-03-03T07:38:45.492Z"
   },
   {
    "duration": 8,
    "start_time": "2022-03-03T07:38:45.501Z"
   },
   {
    "duration": 9,
    "start_time": "2022-03-03T07:38:45.511Z"
   },
   {
    "duration": 6,
    "start_time": "2022-03-03T07:38:45.521Z"
   },
   {
    "duration": 9,
    "start_time": "2022-03-03T07:38:45.529Z"
   },
   {
    "duration": 9,
    "start_time": "2022-03-03T07:38:45.539Z"
   },
   {
    "duration": 9,
    "start_time": "2022-03-03T07:38:45.550Z"
   },
   {
    "duration": 8,
    "start_time": "2022-03-03T07:38:45.561Z"
   },
   {
    "duration": 7,
    "start_time": "2022-03-03T07:38:45.570Z"
   },
   {
    "duration": 11,
    "start_time": "2022-03-03T07:38:45.579Z"
   },
   {
    "duration": 12,
    "start_time": "2022-03-03T07:38:45.592Z"
   },
   {
    "duration": 10,
    "start_time": "2022-03-03T07:38:45.605Z"
   },
   {
    "duration": 57,
    "start_time": "2022-03-03T07:38:45.616Z"
   },
   {
    "duration": 65,
    "start_time": "2022-03-03T07:38:45.675Z"
   },
   {
    "duration": 261,
    "start_time": "2022-03-03T07:38:45.742Z"
   },
   {
    "duration": 1574,
    "start_time": "2022-03-03T07:38:46.005Z"
   },
   {
    "duration": 10,
    "start_time": "2022-03-03T07:38:47.581Z"
   },
   {
    "duration": 27,
    "start_time": "2022-03-03T07:38:47.602Z"
   },
   {
    "duration": 712,
    "start_time": "2022-03-03T07:38:47.630Z"
   },
   {
    "duration": 11,
    "start_time": "2022-03-03T07:38:48.345Z"
   },
   {
    "duration": 2,
    "start_time": "2022-03-03T07:38:48.357Z"
   },
   {
    "duration": 6,
    "start_time": "2022-03-03T07:38:48.361Z"
   },
   {
    "duration": 49,
    "start_time": "2022-03-03T07:40:15.521Z"
   },
   {
    "duration": 7744,
    "start_time": "2022-03-03T07:40:48.484Z"
   },
   {
    "duration": 5,
    "start_time": "2022-03-03T07:43:16.213Z"
   },
   {
    "duration": 30,
    "start_time": "2022-03-03T07:43:16.220Z"
   },
   {
    "duration": 8,
    "start_time": "2022-03-03T07:43:16.252Z"
   },
   {
    "duration": 6,
    "start_time": "2022-03-03T07:43:16.262Z"
   },
   {
    "duration": 4,
    "start_time": "2022-03-03T07:43:16.269Z"
   },
   {
    "duration": 4,
    "start_time": "2022-03-03T07:43:16.274Z"
   },
   {
    "duration": 6,
    "start_time": "2022-03-03T07:43:16.280Z"
   },
   {
    "duration": 6,
    "start_time": "2022-03-03T07:43:16.356Z"
   },
   {
    "duration": 5,
    "start_time": "2022-03-03T07:43:16.364Z"
   },
   {
    "duration": 5,
    "start_time": "2022-03-03T07:43:16.371Z"
   },
   {
    "duration": 24,
    "start_time": "2022-03-03T07:43:16.378Z"
   },
   {
    "duration": 4,
    "start_time": "2022-03-03T07:43:16.403Z"
   },
   {
    "duration": 8,
    "start_time": "2022-03-03T07:43:16.408Z"
   },
   {
    "duration": 8661,
    "start_time": "2022-03-03T07:43:16.418Z"
   },
   {
    "duration": 4,
    "start_time": "2022-03-03T07:43:25.080Z"
   },
   {
    "duration": 18,
    "start_time": "2022-03-03T07:43:25.086Z"
   },
   {
    "duration": 14,
    "start_time": "2022-03-03T07:43:25.105Z"
   },
   {
    "duration": 19,
    "start_time": "2022-03-03T07:43:25.121Z"
   },
   {
    "duration": 11,
    "start_time": "2022-03-03T07:43:25.142Z"
   },
   {
    "duration": 14,
    "start_time": "2022-03-03T07:43:25.154Z"
   },
   {
    "duration": 60,
    "start_time": "2022-03-03T07:43:25.169Z"
   },
   {
    "duration": 70,
    "start_time": "2022-03-03T07:43:25.231Z"
   },
   {
    "duration": 247,
    "start_time": "2022-03-03T07:43:25.304Z"
   },
   {
    "duration": 1582,
    "start_time": "2022-03-03T07:43:25.552Z"
   },
   {
    "duration": 9,
    "start_time": "2022-03-03T07:43:27.136Z"
   },
   {
    "duration": 26,
    "start_time": "2022-03-03T07:43:27.147Z"
   },
   {
    "duration": 738,
    "start_time": "2022-03-03T07:43:27.174Z"
   },
   {
    "duration": 10,
    "start_time": "2022-03-03T07:43:27.914Z"
   },
   {
    "duration": 2,
    "start_time": "2022-03-03T07:43:27.925Z"
   },
   {
    "duration": 7,
    "start_time": "2022-03-03T07:43:27.929Z"
   },
   {
    "duration": 314,
    "start_time": "2022-03-03T07:43:30.748Z"
   },
   {
    "duration": 312,
    "start_time": "2022-03-03T07:44:23.666Z"
   },
   {
    "duration": 11,
    "start_time": "2022-03-03T08:06:22.228Z"
   },
   {
    "duration": 125,
    "start_time": "2022-03-03T08:07:25.956Z"
   },
   {
    "duration": 1546,
    "start_time": "2022-03-03T08:09:52.990Z"
   },
   {
    "duration": 21,
    "start_time": "2022-03-03T08:09:54.539Z"
   },
   {
    "duration": 16,
    "start_time": "2022-03-03T08:09:54.563Z"
   },
   {
    "duration": 9,
    "start_time": "2022-03-03T08:09:54.581Z"
   },
   {
    "duration": 4,
    "start_time": "2022-03-03T08:09:54.601Z"
   },
   {
    "duration": 4,
    "start_time": "2022-03-03T08:09:54.607Z"
   },
   {
    "duration": 10,
    "start_time": "2022-03-03T08:09:54.613Z"
   },
   {
    "duration": 8,
    "start_time": "2022-03-03T08:09:54.626Z"
   },
   {
    "duration": 7,
    "start_time": "2022-03-03T08:09:54.637Z"
   },
   {
    "duration": 7,
    "start_time": "2022-03-03T08:09:54.646Z"
   },
   {
    "duration": 6,
    "start_time": "2022-03-03T08:09:54.655Z"
   },
   {
    "duration": 42,
    "start_time": "2022-03-03T08:09:54.663Z"
   },
   {
    "duration": 8,
    "start_time": "2022-03-03T08:09:54.706Z"
   },
   {
    "duration": 13004,
    "start_time": "2022-03-03T08:09:54.716Z"
   },
   {
    "duration": 417,
    "start_time": "2022-03-03T08:10:07.722Z"
   },
   {
    "duration": 7,
    "start_time": "2022-03-03T08:10:08.141Z"
   },
   {
    "duration": 5,
    "start_time": "2022-03-03T08:10:08.150Z"
   },
   {
    "duration": 15,
    "start_time": "2022-03-03T08:10:08.157Z"
   },
   {
    "duration": 12,
    "start_time": "2022-03-03T08:10:08.174Z"
   },
   {
    "duration": 16,
    "start_time": "2022-03-03T08:10:08.188Z"
   },
   {
    "duration": 11,
    "start_time": "2022-03-03T08:10:08.206Z"
   },
   {
    "duration": 141,
    "start_time": "2022-03-03T08:10:08.218Z"
   },
   {
    "duration": 81,
    "start_time": "2022-03-03T08:10:08.363Z"
   },
   {
    "duration": 280,
    "start_time": "2022-03-03T08:10:08.446Z"
   },
   {
    "duration": 1579,
    "start_time": "2022-03-03T08:10:08.728Z"
   },
   {
    "duration": 10,
    "start_time": "2022-03-03T08:10:10.308Z"
   },
   {
    "duration": 9,
    "start_time": "2022-03-03T08:10:10.320Z"
   },
   {
    "duration": 143,
    "start_time": "2022-03-03T08:10:10.330Z"
   },
   {
    "duration": 10,
    "start_time": "2022-03-03T08:10:10.475Z"
   },
   {
    "duration": 2,
    "start_time": "2022-03-03T08:10:10.487Z"
   },
   {
    "duration": 14,
    "start_time": "2022-03-03T08:10:10.490Z"
   }
  ],
  "kernelspec": {
   "display_name": "Python 3 (ipykernel)",
   "language": "python",
   "name": "python3"
  },
  "language_info": {
   "codemirror_mode": {
    "name": "ipython",
    "version": 3
   },
   "file_extension": ".py",
   "mimetype": "text/x-python",
   "name": "python",
   "nbconvert_exporter": "python",
   "pygments_lexer": "ipython3",
   "version": "3.10.9"
  },
  "toc": {
   "base_numbering": 1,
   "nav_menu": {},
   "number_sections": true,
   "sideBar": true,
   "skip_h1_title": true,
   "title_cell": "Table of Contents",
   "title_sidebar": "Contents",
   "toc_cell": false,
   "toc_position": {},
   "toc_section_display": true,
   "toc_window_display": true
  }
 },
 "nbformat": 4,
 "nbformat_minor": 2
}
